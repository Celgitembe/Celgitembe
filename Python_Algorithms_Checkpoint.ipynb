{
  "nbformat": 4,
  "nbformat_minor": 0,
  "metadata": {
    "colab": {
      "provenance": [],
      "authorship_tag": "ABX9TyM5cYqlwcMD+G3X308duHHx",
      "include_colab_link": true
    },
    "kernelspec": {
      "name": "python3",
      "display_name": "Python 3"
    },
    "language_info": {
      "name": "python"
    }
  },
  "cells": [
    {
      "cell_type": "markdown",
      "metadata": {
        "id": "view-in-github",
        "colab_type": "text"
      },
      "source": [
        "<a href=\"https://colab.research.google.com/github/Celgitembe/Celgitembe/blob/main/Python_Algorithms_Checkpoint.ipynb\" target=\"_parent\"><img src=\"https://colab.research.google.com/assets/colab-badge.svg\" alt=\"Open In Colab\"/></a>"
      ]
    },
    {
      "cell_type": "code",
      "execution_count": null,
      "metadata": {
        "id": "ZkU8pnwcji6U"
      },
      "outputs": [],
      "source": [
        "#1. Write a Python program for a binary search.\n",
        "  #Test Data:\n",
        "\n",
        "  #binary_search([1,2,3,5,8], 6) -> False\n",
        "  #binary_search([1,2,3,5,8], 5) -> True\n",
        "\n",
        "def binary_search (arr, key):\n",
        "\n",
        "  left=0\n",
        "  right=len(arr)-1\n",
        "\n",
        "  while left<=right:\n",
        "    mid=(left+right)//2\n",
        "\n",
        "    if arr[mid]==key:\n",
        "      return True\n",
        "\n",
        "    elif arr[mid]<key:\n",
        "      left=mid+1\n",
        "\n",
        "    else:\n",
        "      right=mid-1\n",
        "  return False\n",
        "\n",
        "binary_search([1,2,3,5,8], 6)\n"
      ]
    },
    {
      "cell_type": "code",
      "source": [
        "#2. Write a Python program to calculate the value of 'a' to the power 'b'.\n",
        "#Test Data:\n",
        "#(power(3,4) -> 81\n",
        "\n",
        "def power(a, b):\n",
        "    result = 1\n",
        "    for number in range(b):\n",
        "        result *= a\n",
        "    return result\n",
        "\n",
        "power(3,4)"
      ],
      "metadata": {
        "id": "7xQ9q3_5wevT"
      },
      "execution_count": null,
      "outputs": []
    },
    {
      "cell_type": "code",
      "source": [
        "#3. Write a Python program to sort a list of elements using the bubble sort algorithm.\n",
        "#Sample Data: [29,13,22,37,52,49,46,71,56]\n",
        "#Expected result: [13, 22, 29, 37, 42, 46, 49, 56, 71]\n",
        "\n",
        "def bubble_sort(sample_list):\n",
        "  for num in range(len(sample_list)-1,0,-1):\n",
        "    for i in range(num):\n",
        "      if sample_list[i]>sample_list[i+1]:\n",
        "        temp=sample_list[i]\n",
        "        sample_list[i]=sample_list[i+1]\n",
        "        sample_list[i+1]= temp\n",
        "  return sample_list\n",
        "\n",
        "sample_list= [29,13,22,37,52,49,46,71,56]\n",
        "bubble_sort(sample_list)\n"
      ],
      "metadata": {
        "colab": {
          "base_uri": "https://localhost:8080/"
        },
        "id": "XXF8qicHdA-i",
        "outputId": "fd802c27-1106-4703-a8f8-3648fd113b05"
      },
      "execution_count": 7,
      "outputs": [
        {
          "output_type": "execute_result",
          "data": {
            "text/plain": [
              "[13, 22, 29, 37, 46, 49, 52, 56, 71]"
            ]
          },
          "metadata": {},
          "execution_count": 7
        }
      ]
    },
    {
      "cell_type": "code",
      "source": [
        "#4. Write a Python program to sort a list of elements using the merge sort algorithm.\n",
        "#Sample Data: [29,13,22,37,52,49,46,71,56]\n",
        "#Expected result: [13, 22, 29, 37, 42, 46, 49, 56, 71]\n",
        "\n",
        "def merge_sort(arr):\n",
        "    if len(arr) > 1:\n",
        "        mid = len(arr) // 2\n",
        "        left_half = arr[:mid]\n",
        "        right_half = arr[mid:]\n",
        "\n",
        "        merge_sort(left_half)\n",
        "        merge_sort(right_half)\n",
        "\n",
        "        i = j = k = 0\n",
        "\n",
        "        while i < len(left_half) and j < len(right_half):\n",
        "            if left_half[i] < right_half[j]:\n",
        "                arr[k] = left_half[i]\n",
        "                i += 1\n",
        "            else:\n",
        "                arr[k] = right_half[j]\n",
        "                j += 1\n",
        "            k += 1\n",
        "\n",
        "        while i < len(left_half):\n",
        "            arr[k] = left_half[i]\n",
        "            i += 1\n",
        "            k += 1\n",
        "\n",
        "        while j < len(right_half):\n",
        "            arr[k] = right_half[j]\n",
        "            j += 1\n",
        "            k += 1\n",
        "\n",
        "\n",
        "# Sample data\n",
        "data = [29, 13, 22, 37, 52, 49, 46, 71, 56]\n",
        "\n",
        "# Sorting the list using merge sort\n",
        "merge_sort(data)\n",
        "\n",
        "# Displaying the sorted list\n",
        "print(data)"
      ],
      "metadata": {
        "id": "uPuHtWicrBnA"
      },
      "execution_count": null,
      "outputs": []
    },
    {
      "cell_type": "code",
      "source": [
        " #5. Write a Python program to sort a list of elements using the quick sort algorithm.\n",
        "#Sample Data: [29,13,22,37,52,49,46,71,56]\n",
        "#Expected result: [13, 22, 29, 37, 42, 46, 49, 56, 71]\n",
        "\n",
        "def partition(arr, low, high):\n",
        "    pivot = arr[high]\n",
        "    i = low - 1\n",
        "    for j in range(low, high):\n",
        "        if arr[j] < pivot:\n",
        "            i += 1\n",
        "            arr[i], arr[j] = arr[j], arr[i]\n",
        "    arr[i + 1], arr[high] = arr[high], arr[i + 1]\n",
        "    return i + 1\n",
        "\n",
        "def quick_sort(arr, low, high):\n",
        "    if low < high:\n",
        "        pi = partition(arr, low, high)\n",
        "        quick_sort(arr, low, pi - 1)\n",
        "        quick_sort(arr, pi + 1, high)\n",
        "\n",
        "# Sample data\n",
        "data = [29, 13, 22, 37, 52, 49, 46, 71, 56]\n",
        "\n",
        "# Sorting the list using quick sort\n",
        "quick_sort(data, 0, len(data) - 1)\n",
        "\n",
        "# Displaying the sorted list\n",
        "print(data)"
      ],
      "metadata": {
        "id": "bvtGy_GV3R0g"
      },
      "execution_count": null,
      "outputs": []
    }
  ]
}