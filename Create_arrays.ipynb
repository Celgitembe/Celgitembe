{
  "nbformat": 4,
  "nbformat_minor": 0,
  "metadata": {
    "colab": {
      "provenance": [],
      "authorship_tag": "ABX9TyNy0Yfln0KfZGYak7NU1zdJ",
      "include_colab_link": true
    },
    "kernelspec": {
      "name": "python3",
      "display_name": "Python 3"
    },
    "language_info": {
      "name": "python"
    }
  },
  "cells": [
    {
      "cell_type": "markdown",
      "metadata": {
        "id": "view-in-github",
        "colab_type": "text"
      },
      "source": [
        "<a href=\"https://colab.research.google.com/github/Celgitembe/Celgitembe/blob/main/Create_arrays.ipynb\" target=\"_parent\"><img src=\"https://colab.research.google.com/assets/colab-badge.svg\" alt=\"Open In Colab\"/></a>"
      ]
    },
    {
      "cell_type": "code",
      "execution_count": null,
      "metadata": {
        "id": "-Zgam9USDWMA"
      },
      "outputs": [],
      "source": [
        "#To create a program that calculates the grades of students using Numpy arrays.\n",
        "#In this exercise, you will create a program that calculates the grades of students using Numpy arrays.\n",
        "#The program will ask the user to enter the number of students, the number of subjects, and the marks of each student in each subject.\n",
        "#It will then calculate the total marks, percentage, and grade for each student using Numpy arrays.\n",
        "#The program will display the result for each student in a tabular format.\n",
        "\n",
        "import numpy as np\n",
        "\n",
        "num_students=int(input(\"Enter number of students \"))\n",
        "num_subjects=int(input(\"Enter number of subjects \"))\n",
        "size= num_students * num_subjects\n",
        "\n",
        "#store=np.arange(size).reshape(num_students,num_subjects)\n",
        "#print(store)\n",
        "\n",
        "marks_list=[]\n",
        "for student in range(num_students):\n",
        "  marks=input(\"Enter grade per subject \")\n",
        "  marks_list.append([int (mark) for mark in marks.split(\",\")])\n",
        "  print(marks_list)\n",
        "\n",
        "final_list=np.array(marks_list)\n",
        "print(final_list)\n",
        "\n",
        "\n",
        "total_marks=final_list.sum(axis=1) #axis can either be 0 or 1, axis=1( summing rows), axis=0(summing colums)\n",
        "print(total_marks)\n",
        "x=list(total_marks)\n",
        "\n",
        "#for total_mark in total_marks:\n",
        "  #percentage_per_student= (total_mark/(num_subjects*100))*100\n",
        "  #print(percentage_per_student)\n",
        "\n",
        "percentage_per_student=(total_marks/(num_subjects*100))*100\n",
        "print(percentage_per_student)\n",
        "y=list(percentage_per_student)\n",
        "\n",
        "#percentage_per_student=(np.multiply(np.divide(total_marks,num_subjects*100),100))\n",
        "#print(percentage_per_student)\n",
        "\n",
        "grades=[]\n",
        "for percentage in percentage_per_student:\n",
        "  if percentage >=90:\n",
        "    grades.append(\"A+\")\n",
        "  elif percentage >=80:\n",
        "    grades.append(\"A\")\n",
        "  elif percentage >=70:\n",
        "    grades.append(\"B+\")\n",
        "  elif percentage >=60:\n",
        "    grades.append(\"B\")\n",
        "  elif percentage >= 50:\n",
        "    grades.append(\"C\")\n",
        "  else:\n",
        "    grades.append(\"F\")\n",
        "print(grades)\n",
        "\n",
        "final_result=([x,y,grades])\n",
        "print(final_result)"
      ]
    }
  ]
}