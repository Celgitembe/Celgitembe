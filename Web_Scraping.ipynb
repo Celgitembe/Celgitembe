{
  "nbformat": 4,
  "nbformat_minor": 0,
  "metadata": {
    "colab": {
      "provenance": [],
      "authorship_tag": "ABX9TyN9ryZhxTb+5Qy61tG4ODDw",
      "include_colab_link": true
    },
    "kernelspec": {
      "name": "python3",
      "display_name": "Python 3"
    },
    "language_info": {
      "name": "python"
    }
  },
  "cells": [
    {
      "cell_type": "markdown",
      "metadata": {
        "id": "view-in-github",
        "colab_type": "text"
      },
      "source": [
        "<a href=\"https://colab.research.google.com/github/Celgitembe/Celgitembe/blob/main/Web_Scraping.ipynb\" target=\"_parent\"><img src=\"https://colab.research.google.com/assets/colab-badge.svg\" alt=\"Open In Colab\"/></a>"
      ]
    },
    {
      "cell_type": "code",
      "execution_count": 3,
      "metadata": {
        "id": "WQd9lhqgcqJY"
      },
      "outputs": [],
      "source": [
        "\n",
        "#Write a function to Get and parse html content from a Wikipedia page\n",
        "\n",
        "import requests\n",
        "from bs4 import BeautifulSoup\n",
        "\n",
        "def get_wikipedia_content(url):\n",
        "    # Send a GET request to the Wikipedia page\n",
        "    response = requests.get(url)\n",
        "\n",
        "    # Check if the request was successful (status code 200)\n",
        "    if response.status_code == 200:\n",
        "        # Parse the HTML content using BeautifulSoup\n",
        "        soup = BeautifulSoup(response.content, 'html.parser')\n",
        "\n",
        "        # Find the main content element\n",
        "        content = soup.find(id='content')\n",
        "\n",
        "        # Extract the text from the main content element\n",
        "        text = content.get_text()\n",
        "\n",
        "        return text\n",
        "    else:\n",
        "        # If the request was not successful, print an error message\n",
        "        print(f\"Error: Unable to fetch content from {url}. Status code: {response.status_code}\")\n",
        "        return None\n",
        ""
      ]
    }
  ]
}