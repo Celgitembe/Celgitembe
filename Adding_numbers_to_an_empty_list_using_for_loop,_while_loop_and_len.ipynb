{
  "nbformat": 4,
  "nbformat_minor": 0,
  "metadata": {
    "colab": {
      "provenance": [],
      "authorship_tag": "ABX9TyNdZcW2bW5CAyrqJpP/Hgx4",
      "include_colab_link": true
    },
    "kernelspec": {
      "name": "python3",
      "display_name": "Python 3"
    },
    "language_info": {
      "name": "python"
    }
  },
  "cells": [
    {
      "cell_type": "markdown",
      "metadata": {
        "id": "view-in-github",
        "colab_type": "text"
      },
      "source": [
        "<a href=\"https://colab.research.google.com/github/Celgitembe/Celgitembe/blob/main/Adding_numbers_to_an_empty_list_using_for_loop%2C_while_loop_and_len.ipynb\" target=\"_parent\"><img src=\"https://colab.research.google.com/assets/colab-badge.svg\" alt=\"Open In Colab\"/></a>"
      ]
    },
    {
      "cell_type": "code",
      "source": [
        "# add numbers 1 to 10 to an empty list\n",
        "list=[]\n",
        "for i in range(1,11):\n",
        "  list.append(i)\n",
        "print(list)\n",
        "\n",
        "# add numbers 11 to 20 using while loop and len\n",
        "while len(list)<20:\n",
        "  add=len(list)+1\n",
        "  list.append(add)\n",
        "print(list)\n",
        "\n",
        "print(list[0]) # print first item of list\n",
        "\n",
        "# print mid item of list\n",
        "print(len(list))\n",
        "mid=int(len(list)/2)\n",
        "print(mid)\n",
        "print(list[mid])\n",
        "\n",
        "# print last item of list\n",
        "print(list[-1])\n",
        "\n",
        "# remove last item from list\n",
        "print(list[0:19])\n",
        "\n",
        "# Reverse and print list\n",
        "list.sort(reverse=True)\n",
        "print(list)"
      ],
      "metadata": {
        "colab": {
          "base_uri": "https://localhost:8080/"
        },
        "id": "ip4DUsdmkdP-",
        "outputId": "a07eaa4a-ce8b-4c19-a614-e7fb89c9efe5"
      },
      "execution_count": 71,
      "outputs": [
        {
          "output_type": "stream",
          "name": "stdout",
          "text": [
            "[1, 2, 3, 4, 5, 6, 7, 8, 9, 10]\n",
            "[1, 2, 3, 4, 5, 6, 7, 8, 9, 10, 11, 12, 13, 14, 15, 16, 17, 18, 19, 20]\n",
            "1\n",
            "20\n",
            "10\n",
            "11\n",
            "20\n",
            "[1, 2, 3, 4, 5, 6, 7, 8, 9, 10, 11, 12, 13, 14, 15, 16, 17, 18, 19]\n",
            "[20, 19, 18, 17, 16, 15, 14, 13, 12, 11, 10, 9, 8, 7, 6, 5, 4, 3, 2, 1]\n"
          ]
        }
      ]
    }
  ]
}