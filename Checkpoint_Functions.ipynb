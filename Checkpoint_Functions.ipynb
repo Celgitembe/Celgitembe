{
  "nbformat": 4,
  "nbformat_minor": 0,
  "metadata": {
    "colab": {
      "provenance": [],
      "name": "Checkpoint Functions",
      "authorship_tag": "ABX9TyN9XtsqFKlXCoUGKaAUao9j",
      "include_colab_link": true
    },
    "kernelspec": {
      "name": "python3",
      "display_name": "Python 3"
    },
    "language_info": {
      "name": "python"
    }
  },
  "cells": [
    {
      "cell_type": "markdown",
      "metadata": {
        "id": "view-in-github",
        "colab_type": "text"
      },
      "source": [
        "<a href=\"https://colab.research.google.com/github/Celgitembe/Celgitembe/blob/main/Checkpoint_Functions.ipynb\" target=\"_parent\"><img src=\"https://colab.research.google.com/assets/colab-badge.svg\" alt=\"Open In Colab\"/></a>"
      ]
    },
    {
      "cell_type": "code",
      "execution_count": null,
      "metadata": {
        "id": "32y-QfFiBTR2"
      },
      "outputs": [],
      "source": [
        "\n",
        "def calculator(num1, num2):\n",
        "    operator = input(\"Enter an operator (+, -, *, /): \")\n",
        "\n",
        "    if operator in ('+', '-', '*', '/'):\n",
        "        if operator == '+':\n",
        "            result = num1 + num2\n",
        "        elif operator == '-':\n",
        "            result = num1 - num2\n",
        "        elif operator == '*':\n",
        "            result = num1 * num2\n",
        "        elif operator == '/':\n",
        "            if num2 != 0:\n",
        "                result = num1 / num2\n",
        "            else:\n",
        "                return \"Error: Cannot divide by zero.\"\n",
        "        return result\n",
        "    else:\n",
        "        return \"Error: Invalid operator.\"\n",
        "\n",
        "num1 = float(input(\"Enter the first number: \"))\n",
        "num2 = float(input(\"Enter the second number: \"))\n",
        "\n",
        "result = calculator(num1, num2)\n",
        "print(\"Result:\", result)\n"
      ]
    }
  ]
}