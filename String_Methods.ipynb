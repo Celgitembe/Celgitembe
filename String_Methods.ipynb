{
  "nbformat": 4,
  "nbformat_minor": 0,
  "metadata": {
    "colab": {
      "provenance": [],
      "authorship_tag": "ABX9TyOetyFoRNNDGM3Y/ONGnSIS",
      "include_colab_link": true
    },
    "kernelspec": {
      "name": "python3",
      "display_name": "Python 3"
    },
    "language_info": {
      "name": "python"
    }
  },
  "cells": [
    {
      "cell_type": "markdown",
      "metadata": {
        "id": "view-in-github",
        "colab_type": "text"
      },
      "source": [
        "<a href=\"https://colab.research.google.com/github/Celgitembe/Celgitembe/blob/main/String_Methods.ipynb\" target=\"_parent\"><img src=\"https://colab.research.google.com/assets/colab-badge.svg\" alt=\"Open In Colab\"/></a>"
      ]
    },
    {
      "cell_type": "code",
      "source": [
        "# Define a 'scientist' variable set to the string 'albert einstein'\n",
        "# Invoke the title method on the string/variable\n",
        "# Assign the returned string to a 'proper_name' variable\n",
        "\n",
        "scientist=\"albert eistein\"\n",
        "proper_name=scientist.title()\n",
        "print(proper_name)"
      ],
      "metadata": {
        "id": "VRDWdVXTjZyR"
      },
      "execution_count": null,
      "outputs": []
    },
    {
      "cell_type": "code",
      "source": [
        "# The 'wasteful_string' below has a lot of useless whitespace\n",
        "# Invoke the correct method on wasteful_string to clear ALL whitespace (beginning and end)\n",
        "# Assign the returned string from the correct method to an 'unwasteful_string' variable\n",
        "\n",
        "wasteful_string = \"     9:00PM     \"\n",
        "#Method one\n",
        "print(wasteful_string.lstrip().rstrip())\n",
        "\n",
        "#Method two\n",
        "unwasteful_string=wasteful_string.strip()\n",
        "print(unwasteful_string)\n"
      ],
      "metadata": {
        "id": "UhU1WDCjkBHD"
      },
      "execution_count": null,
      "outputs": []
    },
    {
      "cell_type": "code",
      "source": [
        "# The party_attendees string below contains a list of people attending our party\n",
        "# Use the 'in' operator to determine if \"Ron\" is attending the party\n",
        "# Assign the resulting Boolean to an 'is_attending' variable\n",
        "\n",
        "party_attendees = \"Sharon, James, Ron, Blake\"\n",
        "is_attending= \"Ron\" in party_attendees\n",
        "print(is_attending)"
      ],
      "metadata": {
        "id": "-9SiKMDVlkFg"
      },
      "execution_count": null,
      "outputs": []
    },
    {
      "cell_type": "code",
      "source": [
        "# Declare a cleanup function that accepts a single string input\n",
        "# The function should\n",
        "#  1) remove all leading and trailing whitespace from the input string\n",
        "#  2) capitalize the first letter of the input string\n",
        "#  3) return the new string\n",
        "# EXAMPLES:\n",
        "#\n",
        "# cleanup(\"  hello  \")               => \"Hello\"\n",
        "# cleanup(\"   see you tomorrow   \")  => \"See you tomorrow\"\n",
        "\n",
        "def cleanup (value):\n",
        "  new_string=value.strip().capitalize()\n",
        "  return new_string\n",
        "\n",
        "name= input(\"Enter a Name/Statement\")\n",
        "cleanup(name)"
      ],
      "metadata": {
        "id": "Ot0jxs7-mIfF"
      },
      "execution_count": null,
      "outputs": []
    }
  ]
}