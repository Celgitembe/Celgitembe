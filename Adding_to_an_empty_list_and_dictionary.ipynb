{
  "nbformat": 4,
  "nbformat_minor": 0,
  "metadata": {
    "colab": {
      "provenance": [],
      "authorship_tag": "ABX9TyMfsYS04T1rUv0tI83LMmiy",
      "include_colab_link": true
    },
    "kernelspec": {
      "name": "python3",
      "display_name": "Python 3"
    },
    "language_info": {
      "name": "python"
    }
  },
  "cells": [
    {
      "cell_type": "markdown",
      "metadata": {
        "id": "view-in-github",
        "colab_type": "text"
      },
      "source": [
        "<a href=\"https://colab.research.google.com/github/Celgitembe/Celgitembe/blob/main/Adding_to_an_empty_list_and_dictionary.ipynb\" target=\"_parent\"><img src=\"https://colab.research.google.com/assets/colab-badge.svg\" alt=\"Open In Colab\"/></a>"
      ]
    },
    {
      "cell_type": "code",
      "execution_count": null,
      "metadata": {
        "id": "J4mUua8e5aMj"
      },
      "outputs": [],
      "source": [
        "num_of_data_strutures=int(input(\"How many data structures do you know?\"))\n",
        "\n",
        "list_of_data_structures=[]\n",
        "for data_structure in range(1,num_of_data_strutures + 1):\n",
        "  name_of_data_struture=input(f\"Name data structure {data_structure}:\")\n",
        "  list_of_data_structures.append(name_of_data_struture)\n",
        "  print(list_of_data_structures)\n",
        "\n",
        "examples_of_data_structures={}\n",
        "for answer in list_of_data_structures:\n",
        "  example=input(f\"Give an example of {answer}:\")\n",
        "  examples_of_data_structures[answer]=example\n",
        "  print(examples_of_data_structures)\n",
        "\n",
        "sample_data_structure=input(\"Which data structure do you want to see?\")\n",
        "print(examples_of_data_structures.get(answer))\n",
        "\n",
        "\n",
        "\n"
      ]
    }
  ]
}