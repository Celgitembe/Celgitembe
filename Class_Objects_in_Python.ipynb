{
  "nbformat": 4,
  "nbformat_minor": 0,
  "metadata": {
    "colab": {
      "provenance": [],
      "authorship_tag": "ABX9TyMZmtLkcV4xacmAq0DEtN1h",
      "include_colab_link": true
    },
    "kernelspec": {
      "name": "python3",
      "display_name": "Python 3"
    },
    "language_info": {
      "name": "python"
    }
  },
  "cells": [
    {
      "cell_type": "markdown",
      "metadata": {
        "id": "view-in-github",
        "colab_type": "text"
      },
      "source": [
        "<a href=\"https://colab.research.google.com/github/Celgitembe/Celgitembe/blob/main/Class_Objects_in_Python.ipynb\" target=\"_parent\"><img src=\"https://colab.research.google.com/assets/colab-badge.svg\" alt=\"Open In Colab\"/></a>"
      ]
    },
    {
      "cell_type": "code",
      "execution_count": 2,
      "metadata": {
        "id": "6fLoujHiCSku",
        "outputId": "fef166c7-ab7b-4e46-9dab-151693600cc6",
        "colab": {
          "base_uri": "https://localhost:8080/"
        }
      },
      "outputs": [
        {
          "output_type": "stream",
          "name": "stdout",
          "text": [
            "x=1,y=2,z=3\n"
          ]
        }
      ],
      "source": [
        "#Write a Python class named Point3D defined by x, y, and z.\n",
        "#Define a method that returns (x, y ,z). This tells Python to represent this object in the following format: (x, y, z).\n",
        "#Then create a variable named my_point containing a new instance of Point3D with x=1, y=2, and z=3 and print it.\n",
        "\n",
        "class Point3D:\n",
        "  def __init__(self,x,y,z):\n",
        "    self.x=x\n",
        "    self.y=y\n",
        "    self.z=z\n",
        "\n",
        "  def coordinates(self):\n",
        "    return (self.x,self.y,self.z)\n",
        "\n",
        "my_point=Point3D(1,2,3)\n",
        "#print(my_point.coordinates())\n",
        "x,y,z=my_point.coordinates()\n",
        "print(f\"x={x},y={y},z={z}\")"
      ]
    },
    {
      "cell_type": "code",
      "source": [
        "# Write a Python class named Rectangle constructed by a length and width.\n",
        "# Define two methods, area and perimeter, which will compute the area and the perimeter of the rectangle.\n",
        "# Then create a variable named my_rectangle containing a new instance of Rectangle with width=3 and length = 4.\n",
        "# Compute both area and perimeter ( the area is expected to be 3*4=12 and perimeter 2*(3+4)=14).\n",
        "\n",
        "\n",
        "class Rectangle:\n",
        "  def __init__(self,length,width):\n",
        "    self.length=length\n",
        "    self.width=width\n",
        "\n",
        "  def area(self):\n",
        "    return self.length*self.width\n",
        "\n",
        "  def perimeter(self):\n",
        "    return 2*(self.length+self.width)\n",
        "\n",
        "my_rectangle=Rectangle(3,4)\n",
        "\n",
        "print(\"Area:\",my_rectangle.area())\n",
        "print(\"Perimeter:\",my_rectangle.perimeter())\n"
      ],
      "metadata": {
        "id": "HCEcnugINXnj"
      },
      "execution_count": null,
      "outputs": []
    },
    {
      "cell_type": "code",
      "source": [
        "# Write a Python  class named Circle constructed by its center O and radius r.\n",
        "# Define two methods, area and perimeter, which will compute the area and the perimeter of the circle\n",
        "# and is Inside() method which allows you to test whether a point A(x, y) belongs to the circle C(O, r) or not.\n",
        "\n",
        "from math import pi\n",
        "\n",
        "class Circle:\n",
        "  def __init__(self,r):\n",
        "    self.center=0\n",
        "    self.radius=r\n",
        "\n",
        "  def area(self):\n",
        "    return pi*self.radius**2\n",
        "\n",
        "  def perimeter(self):\n",
        "    return 2*pi*self.radius\n",
        "\n",
        "  def inside(self,x,y):\n",
        "    if x>=self.center and y<=self.radius:\n",
        "        return True\n",
        "    else:\n",
        "        return False\n",
        "\n",
        "my_circle=Circle(6)\n",
        "print(f\"Area:\",my_circle.area())\n",
        "print(f\"Perimeter:\",my_circle.perimeter())\n",
        "\n",
        "point1=(2,5)\n",
        "point2=(6,9)\n",
        "\n",
        "print(f\"{point1} is inside my circle\",my_circle.inside(*point1))\n",
        "print(f\"{point2} is inside my circle\",my_circle.inside(*point2))"
      ],
      "metadata": {
        "id": "N7zNw-zSSRPA"
      },
      "execution_count": null,
      "outputs": []
    },
    {
      "cell_type": "code",
      "source": [
        "# Suppose we want to model a bank account with support for deposit and withdraw operations.\n",
        "# Let’s create a Python class named Bank defined by its balance.\n",
        "# Define two methods, deposit and withdraw, to compute the new amount of each operation.\n",
        "\n",
        "class Bank():\n",
        "  def __init__(self,balance):\n",
        "    self.balance=balance\n",
        "\n",
        "  def deposit (self):\n",
        "    amount_deposited=float(input(\"How much do you want to deposit: \"))\n",
        "    running_balance= amount_deposited + self.balance\n",
        "    return f\"Your running balance is: {running_balance}\"\n",
        "\n",
        "  def withdraw (self):\n",
        "    withdrawal_amount=float(input(\"How much do you want to withdraw: \"))\n",
        "    if withdrawal_amount>self.balance:\n",
        "      return f\"Withdrawal amount cannot exceed {self.balance}\"\n",
        "    else:\n",
        "      bal_after_withdrawal= self.balance - withdrawal_amount\n",
        "      return f\"Your running balance is: {bal_after_withdrawal}\"\n",
        "\n",
        "my_account=Bank(30000)\n",
        "transcation= input(\"Do you wish to Deposit or Withdraw?\")\n",
        "\n",
        "while transcation.lower()!=\"deposit\" and transcation.lower()!=\"withdraw\":\n",
        "  print(f\"Invalid transcation type entered\")\n",
        "  transcation= input(\"Do you wish to Deposit or Withdraw?\")\n",
        "else:\n",
        "  if transcation.lower()==\"deposit\":\n",
        "    print(my_account.deposit())\n",
        "  if transcation.lower()==\"withdraw\":\n",
        "    print(my_account.withdraw())\n"
      ],
      "metadata": {
        "id": "3_CzhcsrZ_34"
      },
      "execution_count": null,
      "outputs": []
    }
  ]
}