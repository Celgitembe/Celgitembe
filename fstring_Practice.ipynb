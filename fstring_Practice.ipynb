{
  "nbformat": 4,
  "nbformat_minor": 0,
  "metadata": {
    "colab": {
      "provenance": [],
      "authorship_tag": "ABX9TyMKCQQHFfWgNj8qU1N/Clo1",
      "include_colab_link": true
    },
    "kernelspec": {
      "name": "python3",
      "display_name": "Python 3"
    },
    "language_info": {
      "name": "python"
    }
  },
  "cells": [
    {
      "cell_type": "markdown",
      "metadata": {
        "id": "view-in-github",
        "colab_type": "text"
      },
      "source": [
        "<a href=\"https://colab.research.google.com/github/Celgitembe/Celgitembe/blob/main/fstring_Practice.ipynb\" target=\"_parent\"><img src=\"https://colab.research.google.com/assets/colab-badge.svg\" alt=\"Open In Colab\"/></a>"
      ]
    },
    {
      "cell_type": "code",
      "execution_count": 10,
      "metadata": {
        "colab": {
          "base_uri": "https://localhost:8080/"
        },
        "id": "C5FfN6JGjugu",
        "outputId": "58c7e766-3767-42cd-8ca6-a94a59fd83ec"
      },
      "outputs": [
        {
          "output_type": "stream",
          "name": "stdout",
          "text": [
            "Enter first name Celestine\n",
            "Enter last name Gitembe\n",
            "Celestine Gitembe\n"
          ]
        }
      ],
      "source": [
        "FName=input( \"Enter first name \")\n",
        "LName=input(\"Enter last name \")\n",
        "\n",
        "print(FName,LName)"
      ]
    },
    {
      "cell_type": "code",
      "source": [
        "FName= \"Celestine Gitembe\"\n",
        "Age= 26\n",
        "print(f\"Hello {FName}\")\n",
        "print(\"My Name is {} and I am {} years old.\".format(FName, Age))"
      ],
      "metadata": {
        "colab": {
          "base_uri": "https://localhost:8080/"
        },
        "id": "bzIJ9-rymWam",
        "outputId": "493db6b2-1d05-460d-c7d5-5e115eca0095"
      },
      "execution_count": 29,
      "outputs": [
        {
          "output_type": "stream",
          "name": "stdout",
          "text": [
            "Hello Celestine Gitembe\n",
            "My Name is Celestine Gitembe and I am 26 years old.\n"
          ]
        }
      ]
    },
    {
      "cell_type": "code",
      "source": [
        "FName=input(\"Enter first name \")\n",
        "LName=input(\"Enter second name \")\n",
        "print(FName,LName)\n",
        "print(f\"Hello {FName} {LName}. This is your practice session.\")\n",
        "print(\"Hello {} {}. This is your practice session\".format(FName,LName))"
      ],
      "metadata": {
        "colab": {
          "base_uri": "https://localhost:8080/"
        },
        "id": "GSmFNq-GqNAx",
        "outputId": "f237b7b4-7445-4f9e-e16f-d85c699524f1"
      },
      "execution_count": 36,
      "outputs": [
        {
          "output_type": "stream",
          "name": "stdout",
          "text": [
            "Enter first name Celestine\n",
            "Enter second name Gitembe\n",
            "Celestine Gitembe\n",
            "Hello Celestine Gitembe. This is your practice session.\n",
            "Hello Celestine Gitembe. This is your practice session\n"
          ]
        }
      ]
    }
  ]
}