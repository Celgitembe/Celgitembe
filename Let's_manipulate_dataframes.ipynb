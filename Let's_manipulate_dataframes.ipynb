{
  "nbformat": 4,
  "nbformat_minor": 0,
  "metadata": {
    "colab": {
      "provenance": [],
      "authorship_tag": "ABX9TyNYv3hibVwsxgKyu6ISsAr0",
      "include_colab_link": true
    },
    "kernelspec": {
      "name": "python3",
      "display_name": "Python 3"
    },
    "language_info": {
      "name": "python"
    }
  },
  "cells": [
    {
      "cell_type": "markdown",
      "metadata": {
        "id": "view-in-github",
        "colab_type": "text"
      },
      "source": [
        "<a href=\"https://colab.research.google.com/github/Celgitembe/Celgitembe/blob/main/Let's_manipulate_dataframes.ipynb\" target=\"_parent\"><img src=\"https://colab.research.google.com/assets/colab-badge.svg\" alt=\"Open In Colab\"/></a>"
      ]
    },
    {
      "cell_type": "code",
      "source": [
        "\n",
        "#Print the three first rows using the head() method.\n",
        "#Delete rows with Nan values.\n",
        "#Extract the 'name' and 'score' columns from the DataFrame.\n",
        "#Write a Pandas program to append a new row 'k' to the DataFrame with these values (name: \"Suresh\", score: 15.5, attempts: 1, qualify: \"yes\").\n",
        "#Write a Pandas program to delete the 'attempts' column from the DataFrame.\n",
        "#Add a new column \"Success\": if the score is higher than 10 we will have 1, else we will have 0.\n",
        "#After executing the final DataFrame, export it into a CSV file named \"my_data\".\n",
        "\n",
        "\n",
        "import pandas as pd\n",
        "import numpy as np\n",
        "\n",
        "# Define the dictionary data\n",
        "exam_data = {'name': ['Anastasia', 'Dima', 'Katherine', 'James', 'Emily', 'Michael', 'Matthew', 'Laura', 'Kevin', 'Jonas'],\n",
        "             'score': [12.5, 9, 16.5, np.nan, 9, 20, 14.5, np.nan, 8, 19],\n",
        "             'attempts': [1, 3, 2, 3, 2, 3, 1, 1, 2, 1],\n",
        "             'qualify': ['yes', 'no', 'yes', 'no', 'no', 'yes', 'yes', 'no', 'no', 'yes']}\n",
        "\n",
        "# Define the index labels\n",
        "labels = ['a', 'b', 'c', 'd', 'e', 'f', 'g', 'h', 'i', 'j']\n",
        "\n",
        "# Create DataFrame\n",
        "df = pd.DataFrame(exam_data, index=labels)\n",
        "\n",
        "# Print the first three rows using head()\n",
        "print(\"First three rows:\")\n",
        "print(df.head(3))\n",
        "\n",
        "# Delete rows with NaN values\n",
        "df = df.dropna()\n",
        "\n",
        "# Extract 'name' and 'score' columns\n",
        "name_score_df = df[['name', 'score']]\n",
        "print(\"\\nExtracted 'name' and 'score' columns:\")\n",
        "print(name_score_df)\n",
        "\n",
        "# Append a new row 'k' to the DataFrame\n",
        "new_row = pd.DataFrame({'name': 'Suresh', 'score': 15.5, 'attempts': 1, 'qualify': 'yes'}, index=['k'])\n",
        "df = pd.concat([df, new_row])\n",
        "\n",
        "# Delete the 'attempts' column\n",
        "df = df.drop('attempts', axis=1)\n",
        "\n",
        "# Add a new column \"Success\"\n",
        "df['Success'] = df['score'].apply(lambda x: 1 if x > 10 else 0)\n",
        "\n",
        "# Export the final DataFrame into a CSV file named \"my_data\"\n",
        "df.to_csv('my_data.csv')\n",
        "\n",
        "print(\"\\nFinal DataFrame:\")\n",
        "print(df)"
      ],
      "metadata": {
        "id": "yMCjLhYyDNe9"
      },
      "execution_count": null,
      "outputs": []
    }
  ]
}