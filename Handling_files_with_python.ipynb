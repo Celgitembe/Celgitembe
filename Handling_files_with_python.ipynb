{
  "nbformat": 4,
  "nbformat_minor": 0,
  "metadata": {
    "colab": {
      "provenance": [],
      "authorship_tag": "ABX9TyNhd/myY1lW8+596ngecXoI",
      "include_colab_link": true
    },
    "kernelspec": {
      "name": "python3",
      "display_name": "Python 3"
    },
    "language_info": {
      "name": "python"
    }
  },
  "cells": [
    {
      "cell_type": "markdown",
      "metadata": {
        "id": "view-in-github",
        "colab_type": "text"
      },
      "source": [
        "<a href=\"https://colab.research.google.com/github/Celgitembe/Celgitembe/blob/main/Handling_files_with_python.ipynb\" target=\"_parent\"><img src=\"https://colab.research.google.com/assets/colab-badge.svg\" alt=\"Open In Colab\"/></a>"
      ]
    },
    {
      "cell_type": "code",
      "execution_count": null,
      "metadata": {
        "id": "STlXhS7tjU6J"
      },
      "outputs": [],
      "source": [
        "\n",
        "#Write a Python program to read an entire text file.\n",
        "\n",
        "file_path = \"C:\\\\Users\\\\Celestine.Gitembe\\\\Downloads\\\\python.txt\"\n",
        "\n",
        "try:\n",
        "    with open(file_path, \"r\") as file_object:\n",
        "        file_contents = file_object.read()\n",
        "        print(\"File contents:\")\n",
        "        print(file_contents)\n",
        "except FileNotFoundError:\n",
        "    print(f\"File '{file_path}' not found.\")\n",
        "except Exception as e:\n",
        "    print(\"An error occurred:\", e)"
      ]
    },
    {
      "cell_type": "code",
      "source": [
        "\n",
        "#Write a Python program to read the first n lines of a file.\n",
        "def read_first_n_lines(file_path, n):\n",
        "    try:\n",
        "        with open(file_path, \"r\") as file_object:\n",
        "            for _ in range(n):\n",
        "                line = file_object.readline()\n",
        "                if not line:\n",
        "                    break  # End of file reached before reading 'n' lines\n",
        "                print(line.strip())  # Strip newline character before printing\n",
        "    except FileNotFoundError:\n",
        "        print(f\"File '{file_path}' not found.\")\n",
        "    except Exception as e:\n",
        "        print(\"An error occurred:\", e)\n"
      ],
      "metadata": {
        "id": "x41-DyqbkEds"
      },
      "execution_count": null,
      "outputs": []
    },
    {
      "cell_type": "code",
      "source": [
        "\n",
        "#Write a Python program to read the last n lines of a file.\n",
        "def read_last_n_lines(file_path, n):\n",
        "    try:\n",
        "        with open(file_path, \"r\") as file_object:\n",
        "            # Use a deque to store the last 'n' lines\n",
        "            last_n_lines = deque(maxlen=n)\n",
        "            for line in file_object:\n",
        "                last_n_lines.append(line.strip())  # Strip newline character before storing\n",
        "            print(\"Last\", n, \"lines of the file:\")\n",
        "            for line in last_n_lines:\n",
        "                print(line)\n",
        "    except FileNotFoundError:\n",
        "        print(f\"File '{file_path}' not found.\")\n",
        "    except Exception as e:\n",
        "        print(\"An error occurred:\", e)\n"
      ],
      "metadata": {
        "id": "cZgWJZT3lFvF"
      },
      "execution_count": null,
      "outputs": []
    },
    {
      "cell_type": "code",
      "source": [
        "\n",
        "#Write a Python program that takes a text file as input and returns the number of words of a given text file.\n",
        "def count_words(file_path):\n",
        "    try:\n",
        "        with open(file_path, \"r\") as file_object:\n",
        "            text = file_object.read()\n",
        "            words = text.split()\n",
        "            num_words = len(words)\n",
        "            return num_words\n",
        "    except FileNotFoundError:\n",
        "        print(f\"File '{file_path}' not found.\")\n",
        "        return -1  # Return -1 to indicate an error\n",
        "    except Exception as e:\n",
        "        print(\"An error occurred:\", e)\n",
        "        return -1  # Return -1 to indicate an error\n",
        "\n"
      ],
      "metadata": {
        "id": "8aJ_i20wlMfC"
      },
      "execution_count": null,
      "outputs": []
    },
    {
      "cell_type": "code",
      "source": [
        "\n"
      ],
      "metadata": {
        "id": "eFmAxmo3lwt6"
      },
      "execution_count": null,
      "outputs": []
    }
  ]
}