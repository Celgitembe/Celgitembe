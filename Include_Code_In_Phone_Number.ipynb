{
  "nbformat": 4,
  "nbformat_minor": 0,
  "metadata": {
    "colab": {
      "provenance": [],
      "authorship_tag": "ABX9TyNEvsjd+cgocX+j47mp+hy4",
      "include_colab_link": true
    },
    "kernelspec": {
      "name": "python3",
      "display_name": "Python 3"
    },
    "language_info": {
      "name": "python"
    }
  },
  "cells": [
    {
      "cell_type": "markdown",
      "metadata": {
        "id": "view-in-github",
        "colab_type": "text"
      },
      "source": [
        "<a href=\"https://colab.research.google.com/github/Celgitembe/Celgitembe/blob/main/Include_Code_In_Phone_Number.ipynb\" target=\"_parent\"><img src=\"https://colab.research.google.com/assets/colab-badge.svg\" alt=\"Open In Colab\"/></a>"
      ]
    },
    {
      "cell_type": "code",
      "execution_count": null,
      "metadata": {
        "id": "kdXBiya7z7zd"
      },
      "outputs": [],
      "source": [
        "P_Number= input(\"Enter phone number: \")\n",
        "if len(P_Number)==10:\n",
        "  New_Number=P_Number[1:]\n",
        "  print(str(254) + (New_Number))\n",
        "\n",
        "elif len(P_Number)==12:\n",
        "  P_Number[:3]==254\n",
        "  print(P_Number)\n",
        "\n",
        "elif len(P_Number)==13:\n",
        "  P_Number[:4]==+254\n",
        "  print(P_Number)\n",
        "\n",
        "else:\n",
        "  P_Number[:3]!=254 and P_Number[:4]!=+254\n",
        "  print(\"Enter correct phone number: \")\n",
        "\n",
        "\n"
      ]
    }
  ]
}