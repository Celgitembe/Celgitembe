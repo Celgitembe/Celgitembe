{
  "nbformat": 4,
  "nbformat_minor": 0,
  "metadata": {
    "colab": {
      "provenance": [],
      "authorship_tag": "ABX9TyNNmOCbLAUyHvuiq/fIuT9q",
      "include_colab_link": true
    },
    "kernelspec": {
      "name": "python3",
      "display_name": "Python 3"
    },
    "language_info": {
      "name": "python"
    }
  },
  "cells": [
    {
      "cell_type": "markdown",
      "metadata": {
        "id": "view-in-github",
        "colab_type": "text"
      },
      "source": [
        "<a href=\"https://colab.research.google.com/github/Celgitembe/Celgitembe/blob/main/Python_Data_Structures_Checkpoint.ipynb\" target=\"_parent\"><img src=\"https://colab.research.google.com/assets/colab-badge.svg\" alt=\"Open In Colab\"/></a>"
      ]
    },
    {
      "cell_type": "code",
      "execution_count": null,
      "metadata": {
        "id": "n10dkPcqz7Gc"
      },
      "outputs": [],
      "source": [
        "#1_Write a Python program that multiplies all the items in a list.\n",
        "\n",
        "list1=[2,3,6]\n",
        "multiple=1\n",
        "for number in list1:\n",
        "  multiple=multiple*number\n",
        "print(multiple)"
      ]
    },
    {
      "cell_type": "code",
      "source": [
        "#2 _Write a Python program to get a list, sorted in increasing order by the last element in each tuple, from a given list of non-empty tuples.\n",
        "\n",
        "def last(n):\n",
        "    return n[-1]\n",
        "\n",
        "def sort(tuples):\n",
        "    return sorted(tuples, key=last)\n",
        "\n",
        "sample_list=[(2, 5), (1, 2), (4, 4), (2, 3), (2, 1)]\n",
        "print(sort(sample_list))\n"
      ],
      "metadata": {
        "id": "C1Sj77u81rfG"
      },
      "execution_count": null,
      "outputs": []
    },
    {
      "cell_type": "code",
      "source": [
        "#3_Write a Python program that combines two dictionaries by adding values for common keys.\n",
        "\n",
        "d1 = {'a': 100, 'b': 200, 'c':300}\n",
        "d2 = {'a': 300, 'b': 200, 'd':400}\n",
        "\n",
        "for key in d2:\n",
        "    if key in d1:\n",
        "        d2[key] = d2[key] + d1[key]\n",
        "    else:\n",
        "      pass\n",
        "for key in d1:\n",
        "  if key in d2:\n",
        "    d1[key]=d1[key] +d2[key]\n",
        "  else:\n",
        "    combine=d1|d2\n",
        "    print(combine)\n"
      ],
      "metadata": {
        "id": "KM2NafQVPy26"
      },
      "execution_count": null,
      "outputs": []
    },
    {
      "cell_type": "code",
      "source": [
        "#4_With a given integral number n, write a program to generate a dictionary that contains (i, i*i) so that is an integral number between 1 and n (both included). Then the program should print the dictionary. Suppose the following input is supplied to the program: 8\n",
        "output={}\n",
        "number=int(input(\"Enter number: \"))\n",
        "for list_key in range(1,number+1):\n",
        "  number_squared= list_key**2\n",
        "  output[list_key]=number_squared\n",
        "print(output)\n",
        "\n",
        "\n"
      ],
      "metadata": {
        "id": "iXZP_JwNMv2J"
      },
      "execution_count": null,
      "outputs": []
    },
    {
      "cell_type": "code",
      "source": [
        "#5_Write a program to sort a tuple by its float element.\n",
        "\n",
        "list= [('item1', '12.20'), ('item2', '15.10'), ('item3', '24.5')]\n",
        "sorted(list,key=lambda x:float(x[1]),reverse=True)\n"
      ],
      "metadata": {
        "colab": {
          "base_uri": "https://localhost:8080/"
        },
        "id": "ixvWgplxI3dN",
        "outputId": "e357b775-d9fb-4ba9-f47d-bfd009852a32"
      },
      "execution_count": 4,
      "outputs": [
        {
          "output_type": "execute_result",
          "data": {
            "text/plain": [
              "[('item3', '24.5'), ('item2', '15.10'), ('item1', '12.20')]"
            ]
          },
          "metadata": {},
          "execution_count": 4
        }
      ]
    },
    {
      "cell_type": "code",
      "source": [
        "\n",
        "#6_Write a Python program to create a set.\n",
        "\n",
        "sample={0,1,2,3,4}\n",
        "for numbers in sample:\n",
        "  print(numbers)\n",
        "\n",
        "# adding members to a set\n",
        "sample.add(7)\n",
        "print(sample)\n",
        "\n",
        "#removing members from a set\n",
        "sample.remove(1)\n",
        "print(sample)"
      ],
      "metadata": {
        "id": "V-qUmzpIJ4Hi"
      },
      "execution_count": null,
      "outputs": []
    }
  ]
}