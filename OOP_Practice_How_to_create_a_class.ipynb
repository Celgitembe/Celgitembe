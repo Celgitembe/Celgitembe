{
  "nbformat": 4,
  "nbformat_minor": 0,
  "metadata": {
    "colab": {
      "provenance": [],
      "authorship_tag": "ABX9TyNawsCUoT8VCV7Xgl8VLCac",
      "include_colab_link": true
    },
    "kernelspec": {
      "name": "python3",
      "display_name": "Python 3"
    },
    "language_info": {
      "name": "python"
    }
  },
  "cells": [
    {
      "cell_type": "markdown",
      "metadata": {
        "id": "view-in-github",
        "colab_type": "text"
      },
      "source": [
        "<a href=\"https://colab.research.google.com/github/Celgitembe/Celgitembe/blob/main/OOP_Practice_How_to_create_a_class.ipynb\" target=\"_parent\"><img src=\"https://colab.research.google.com/assets/colab-badge.svg\" alt=\"Open In Colab\"/></a>"
      ]
    },
    {
      "cell_type": "code",
      "execution_count": null,
      "metadata": {
        "id": "TZYMba-5-Wy2"
      },
      "outputs": [],
      "source": [
        "\n",
        "# Create a Class person with features (name,gender, and age) and behaviours (vote and talk).\n",
        "class Person:\n",
        "  def __init__(self,name,gender,age):\n",
        "    self.name=name\n",
        "    self.gender=gender\n",
        "    self.age=int(age)\n",
        "  def talk(self):\n",
        "    print(\"Hi I am\", self.name)\n",
        "  def vote(self):\n",
        "    if self.age<18:\n",
        "      print(\"I am not eligible to vote\")\n",
        "    else:\n",
        "      print(\"I am eligible to vote\")\n",
        "\n",
        "name=input(\"Enter your name: \")\n",
        "gender=input(\"Enter your gender: \")\n",
        "age=input(\"Enter your age: \")\n",
        "per1=Person(name,gender,age)\n",
        "per1.talk()\n",
        "per1.vote()\n"
      ]
    }
  ]
}