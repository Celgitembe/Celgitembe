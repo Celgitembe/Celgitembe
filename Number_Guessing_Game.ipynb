{
  "nbformat": 4,
  "nbformat_minor": 0,
  "metadata": {
    "colab": {
      "provenance": [],
      "authorship_tag": "ABX9TyPKqGZUdrXzk1Hm1+X0tY3L",
      "include_colab_link": true
    },
    "kernelspec": {
      "name": "python3",
      "display_name": "Python 3"
    },
    "language_info": {
      "name": "python"
    }
  },
  "cells": [
    {
      "cell_type": "markdown",
      "metadata": {
        "id": "view-in-github",
        "colab_type": "text"
      },
      "source": [
        "<a href=\"https://colab.research.google.com/github/Celgitembe/Celgitembe/blob/main/Number_Guessing_Game.ipynb\" target=\"_parent\"><img src=\"https://colab.research.google.com/assets/colab-badge.svg\" alt=\"Open In Colab\"/></a>"
      ]
    },
    {
      "cell_type": "code",
      "execution_count": null,
      "metadata": {
        "id": "_9WS77faoqBU"
      },
      "outputs": [],
      "source": [
        "\n",
        "import random\n",
        "number=random.randint(1,100)\n",
        "\n",
        "print(\"Welcome to the Guess the Number game!\\nI am thinking of a number between 1 and 100. Can you guess what it is? \")\n",
        "while True:\n",
        "  guess_number=int(input(\"Enter a number: \"))\n",
        "  if guess_number==number:\n",
        "    print(\"Congratulations!\")\n",
        "    break\n",
        "  elif guess_number>number:\n",
        "    print(\"Your guess is too high,guess again!\")\n",
        "  else:\n",
        "    print(\"Your guess is too low, guess again!\")\n"
      ]
    },
    {
      "cell_type": "code",
      "source": [],
      "metadata": {
        "id": "Ph0nK8Ae7jb6"
      },
      "execution_count": null,
      "outputs": []
    }
  ]
}