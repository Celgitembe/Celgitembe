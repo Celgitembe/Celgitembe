{
  "nbformat": 4,
  "nbformat_minor": 0,
  "metadata": {
    "colab": {
      "provenance": [],
      "authorship_tag": "ABX9TyNm14kR4LR2RqfgeZtm0C70",
      "include_colab_link": true
    },
    "kernelspec": {
      "name": "python3",
      "display_name": "Python 3"
    },
    "language_info": {
      "name": "python"
    }
  },
  "cells": [
    {
      "cell_type": "markdown",
      "metadata": {
        "id": "view-in-github",
        "colab_type": "text"
      },
      "source": [
        "<a href=\"https://colab.research.google.com/github/Celgitembe/Celgitembe/blob/main/Number_Guessing_Game.ipynb\" target=\"_parent\"><img src=\"https://colab.research.google.com/assets/colab-badge.svg\" alt=\"Open In Colab\"/></a>"
      ]
    },
    {
      "cell_type": "code",
      "execution_count": null,
      "metadata": {
        "id": "_9WS77faoqBU"
      },
      "outputs": [],
      "source": [
        "\n",
        "print(\"Welcome to the Guess the Number game!\\nI am thinking of a number between 1 and 100. Can your guess what it is?\")\n",
        "while True:\n",
        "  guessNum=int(input(\"Enter your guess: \"))\n",
        "  import random\n",
        "  num=random.randint(1,100)\n",
        "  if guessNum==num:\n",
        "      print(\"Congratulations, you guessed the number correctly!\")\n",
        "      break\n",
        "  elif guessNum>num:\n",
        "      print(\"Your guess is too high.Guess again\")\n",
        "  else:\n",
        "      print(\"Your guess is too low.Guess again\")1\n",
        "      3\n",
        "\n"
      ]
    },
    {
      "cell_type": "code",
      "source": [],
      "metadata": {
        "id": "Ph0nK8Ae7jb6"
      },
      "execution_count": null,
      "outputs": []
    }
  ]
}