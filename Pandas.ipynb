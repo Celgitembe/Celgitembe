{
  "nbformat": 4,
  "nbformat_minor": 0,
  "metadata": {
    "colab": {
      "provenance": [],
      "authorship_tag": "ABX9TyOWwCrhL7B3Rg5dCmbNQy8z",
      "include_colab_link": true
    },
    "kernelspec": {
      "name": "python3",
      "display_name": "Python 3"
    },
    "language_info": {
      "name": "python"
    }
  },
  "cells": [
    {
      "cell_type": "markdown",
      "metadata": {
        "id": "view-in-github",
        "colab_type": "text"
      },
      "source": [
        "<a href=\"https://colab.research.google.com/github/Celgitembe/Celgitembe/blob/main/Pandas.ipynb\" target=\"_parent\"><img src=\"https://colab.research.google.com/assets/colab-badge.svg\" alt=\"Open In Colab\"/></a>"
      ]
    },
    {
      "cell_type": "code",
      "execution_count": 11,
      "metadata": {
        "colab": {
          "base_uri": "https://localhost:8080/"
        },
        "id": "HUueR3jXaUfA",
        "outputId": "e0e87467-7bc8-4972-863e-24d8bd934457"
      },
      "outputs": [
        {
          "output_type": "stream",
          "name": "stdout",
          "text": [
            "Empty DataFrame\n",
            "Columns: []\n",
            "Index: []\n",
            "df empty\n",
            "Empty DataFrame\n",
            "Columns: [column1]\n",
            "Index: []\n",
            "df empty\n",
            "Empty DataFrame\n",
            "Columns: [column1, 2, 3]\n",
            "Index: []\n",
            "df empty\n",
            "   column1  2  3\n",
            "0        0  3  6\n",
            "1        1  4  7\n",
            "2        2  5  8\n",
            "df not empty\n"
          ]
        }
      ],
      "source": [
        "import pandas\n",
        "\n",
        "def check_if_empty(d):\n",
        "  if not d.empty:\n",
        "    print(\"df not empty\")\n",
        "  else:\n",
        "    print(\"df empty\")\n",
        "\n",
        "df= pandas.DataFrame()\n",
        "print (df)\n",
        "\n",
        "check_if_empty(df)\n",
        "\n",
        "df[\"column1\"]=0\n",
        "print(df)\n",
        "check_if_empty(df)\n",
        "\n",
        "df[[\"2\",\"3\"]]=0\n",
        "print(df)\n",
        "check_if_empty(df)\n",
        "\n",
        "x={\"column1\":[0,1,2],2:[3,4,5],3:[6,7,8]}\n",
        "df= pandas.DataFrame(x)\n",
        "print(df)\n",
        "check_if_empty(df)\n",
        "\n",
        "\n"
      ]
    }
  ]
}