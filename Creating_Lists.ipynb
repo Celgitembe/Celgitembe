{
  "nbformat": 4,
  "nbformat_minor": 0,
  "metadata": {
    "colab": {
      "provenance": [],
      "authorship_tag": "ABX9TyP9b5TpNQEaugHClXevMf+1",
      "include_colab_link": true
    },
    "kernelspec": {
      "name": "python3",
      "display_name": "Python 3"
    },
    "language_info": {
      "name": "python"
    }
  },
  "cells": [
    {
      "cell_type": "markdown",
      "metadata": {
        "id": "view-in-github",
        "colab_type": "text"
      },
      "source": [
        "<a href=\"https://colab.research.google.com/github/Celgitembe/Celgitembe/blob/main/Creating_Lists.ipynb\" target=\"_parent\"><img src=\"https://colab.research.google.com/assets/colab-badge.svg\" alt=\"Open In Colab\"/></a>"
      ]
    },
    {
      "cell_type": "code",
      "execution_count": null,
      "metadata": {
        "id": "RydZcm6vtCrW"
      },
      "outputs": [],
      "source": [
        "# Create an empty list and assign it to the variable \"empty\".\n",
        "\n",
        "empty=[]\n",
        "\n",
        "# Create a list with a single Boolean — True — and assign it to the variable \"active\".\n",
        "\n",
        "active=[\"True\"]\n",
        "\n",
        "# Create a list with 5 integers of your choice and assign it to the variable \"favorite_numbers\".\n",
        "\n",
        "favorite_numbers=[4,7,99,34,30]\n",
        "\n",
        "# Create a list with 3 strings  — \"red\", \"green\", \"blue\" — and assign it to the variable \"colors\".\n",
        "\n",
        "colors=[\"red\",\"green\", \"blue\"]\n",
        "\n",
        "# Declare an is_long function that accepts a single list as an argument\n",
        "# It should return True if the list has more than 5 elements, and False otherwise\n",
        "\n",
        "def is_long (list_entry):\n",
        "  if len(list_entry) > 5:\n",
        "    return True\n",
        "  else:\n",
        "    return False\n",
        "\n",
        "list1=[]\n",
        "entries = int(input(\"How many values do you want your list to have? \"))\n",
        "for numbers in range(entries):\n",
        "  entry_number=int(input(f\"Enter number {numbers}: \"))\n",
        "  list1.append(entry_number)\n",
        "print(list1)\n",
        "\n",
        "is_long(list1)"
      ]
    }
  ]
}